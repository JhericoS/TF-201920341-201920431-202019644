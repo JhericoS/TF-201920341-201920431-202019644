{
  "nbformat": 4,
  "nbformat_minor": 0,
  "metadata": {
    "colab": {
      "name": "TrabajoFinal_hito2.ipynb",
      "provenance": []
    },
    "kernelspec": {
      "name": "python3",
      "display_name": "Python 3"
    },
    "language_info": {
      "name": "python"
    }
  },
  "cells": [
    {
      "cell_type": "code",
      "execution_count": 1,
      "metadata": {
        "colab": {
          "base_uri": "https://localhost:8080/"
        },
        "id": "HA0dXka8yyi0",
        "outputId": "902dffd2-490a-4c1d-e891-305e5d85939a"
      },
      "outputs": [
        {
          "output_type": "stream",
          "name": "stdout",
          "text": [
            "Writing 0502.al\n"
          ]
        }
      ],
      "source": [
        "%%file 0502.al\n",
        "-57.9562533 -34.9005364\n",
        "-57.9569507 -34.9010379\n",
        "-57.9557812 -34.9017771 \n",
        "-57.9547942 -34.9009236\n",
        "-57.9536891 -34.9018299\n",
        "-57.9547513 -34.9026922\n",
        "-57.9557598 -34.9035281 \n",
        "-57.956897 -34.9027626\n",
        "-57.9580021 -34.9019267"
      ]
    },
    {
      "cell_type": "code",
      "source": [
        "import graphviz as gv\n",
        "G1 = []\n",
        "with open(\"0502.al\") as f:\n",
        "  for line in f:\n",
        "    if line == \"-\\n\":\n",
        "      G1.append([])\n",
        "    else:\n",
        "      G1.append([float(x) for x in line.split()])\n"
      ],
      "metadata": {
        "id": "ifCUDu07y-Sh"
      },
      "execution_count": 2,
      "outputs": []
    },
    {
      "cell_type": "code",
      "source": [
        "n=len(G1)\n",
        "\n",
        "e=[]\n",
        "c=[]\n",
        "d=[]\n",
        "f=[]\n",
        "for a in range(n):\n",
        "  c.append(G1[a])\n",
        "  for b in G1[a]:\n",
        "    e.append(b)\n",
        "    \n",
        "for a in range(len(e)):\n",
        "  if (a%2)==0:\n",
        "    d.append(e[a])\n",
        "  else:\n",
        "    f.append(e[a])\n",
        "  \n",
        "print(e)\n",
        "print(c)\n",
        "print(d)\n",
        "print(f)"
      ],
      "metadata": {
        "colab": {
          "base_uri": "https://localhost:8080/"
        },
        "id": "HlltYmJjzBSA",
        "outputId": "afbd008f-8df8-4c04-b625-780ee63d2704"
      },
      "execution_count": 3,
      "outputs": [
        {
          "output_type": "stream",
          "name": "stdout",
          "text": [
            "[-57.9562533, -34.9005364, -57.9569507, -34.9010379, -57.9557812, -34.9017771, -57.9547942, -34.9009236, -57.9536891, -34.9018299, -57.9547513, -34.9026922, -57.9557598, -34.9035281, -57.956897, -34.9027626, -57.9580021, -34.9019267]\n",
            "[[-57.9562533, -34.9005364], [-57.9569507, -34.9010379], [-57.9557812, -34.9017771], [-57.9547942, -34.9009236], [-57.9536891, -34.9018299], [-57.9547513, -34.9026922], [-57.9557598, -34.9035281], [-57.956897, -34.9027626], [-57.9580021, -34.9019267]]\n",
            "[-57.9562533, -57.9569507, -57.9557812, -57.9547942, -57.9536891, -57.9547513, -57.9557598, -57.956897, -57.9580021]\n",
            "[-34.9005364, -34.9010379, -34.9017771, -34.9009236, -34.9018299, -34.9026922, -34.9035281, -34.9027626, -34.9019267]\n"
          ]
        }
      ]
    },
    {
      "cell_type": "code",
      "source": [
        "import numpy as np\n",
        "import matplotlib.pyplot as plt\n",
        "n=9\n",
        "ciudades=[i for i in range(n)]\n",
        "arcos=[(i,j)for i in ciudades for j in ciudades if i!=j]\n",
        "cordenadas_x=np.array(d)\n",
        "cordenadas_y=np.array(f)\n",
        "distancia={(i,j): np.hypot(cordenadas_x[i]-cordenadas_x[j],cordenadas_y[i]-cordenadas_y[j]) for i,j in arcos }  "
      ],
      "metadata": {
        "id": "VctnR8euzEG4"
      },
      "execution_count": 4,
      "outputs": []
    },
    {
      "cell_type": "code",
      "source": [
        "distancia"
      ],
      "metadata": {
        "colab": {
          "base_uri": "https://localhost:8080/"
        },
        "id": "c1xlNHXnzKV_",
        "outputId": "340529e6-2161-45b1-ae3c-d7d59792748a"
      },
      "execution_count": 5,
      "outputs": [
        {
          "output_type": "execute_result",
          "data": {
            "text/plain": [
              "{(0, 1): 0.0008589930209253968,\n",
              " (0, 2): 0.001327484425518803,\n",
              " (0, 3): 0.0015096014871460682,\n",
              " (0, 4): 0.0028719790894114828,\n",
              " (0, 5): 0.002627446981385847,\n",
              " (0, 6): 0.0030321298026326385,\n",
              " (0, 7): 0.0023173942543315107,\n",
              " (0, 8): 0.0022341073228466174,\n",
              " (1, 0): 0.0008589930209253968,\n",
              " (1, 2): 0.0013835269748019598,\n",
              " (1, 3): 0.00215952697135087,\n",
              " (1, 4): 0.003356381766131303,\n",
              " (1, 5): 0.0027521026234506524,\n",
              " (1, 6): 0.002760314991085945,\n",
              " (1, 7): 0.0017255357950544262,\n",
              " (1, 8): 0.001376737956184977,\n",
              " (2, 0): 0.001327484425518803,\n",
              " (2, 1): 0.0013835269748019598,\n",
              " (2, 3): 0.001304849129204888,\n",
              " (2, 4): 0.0020927661718393737,\n",
              " (2, 5): 0.0013777162334814388,\n",
              " (2, 6): 0.0017511307661109083,\n",
              " (2, 7): 0.0014886973802668982,\n",
              " (2, 8): 0.0022259328314261128,\n",
              " (3, 0): 0.0015096014871460682,\n",
              " (3, 1): 0.00215952697135087,\n",
              " (3, 2): 0.001304849129204888,\n",
              " (3, 4): 0.0014292045689877882,\n",
              " (3, 5): 0.001769120224855982,\n",
              " (3, 6): 0.002777733538340494,\n",
              " (3, 7): 0.0027935083389882655,\n",
              " (3, 8): 0.003361076021156639,\n",
              " (4, 0): 0.0028719790894114828,\n",
              " (4, 1): 0.003356381766131303,\n",
              " (4, 2): 0.0020927661718393737,\n",
              " (4, 3): 0.0014292045689877882,\n",
              " (4, 5): 0.0013681484312711692,\n",
              " (4, 6): 0.0026779995761795554,\n",
              " (4, 7): 0.003340741190214714,\n",
              " (4, 8): 0.004314086141934087,\n",
              " (5, 0): 0.002627446981385847,\n",
              " (5, 1): 0.0027521026234506524,\n",
              " (5, 2): 0.0013777162334814388,\n",
              " (5, 3): 0.001769120224855982,\n",
              " (5, 4): 0.0013681484312711692,\n",
              " (5, 6): 0.001309885895801089,\n",
              " (5, 7): 0.0021468545945172797,\n",
              " (5, 8): 0.0033397141928648696,\n",
              " (6, 0): 0.0030321298026326385,\n",
              " (6, 1): 0.002760314991085945,\n",
              " (6, 2): 0.0017511307661109083,\n",
              " (6, 3): 0.002777733538340494,\n",
              " (6, 4): 0.0026779995761795554,\n",
              " (6, 5): 0.001309885895801089,\n",
              " (6, 7): 0.00137084429822974,\n",
              " (6, 8): 0.0027554294129977014,\n",
              " (7, 0): 0.0023173942543315107,\n",
              " (7, 1): 0.0017255357950544262,\n",
              " (7, 2): 0.0014886973802668982,\n",
              " (7, 3): 0.0027935083389882655,\n",
              " (7, 4): 0.003340741190214714,\n",
              " (7, 5): 0.0021468545945172797,\n",
              " (7, 6): 0.00137084429822974,\n",
              " (7, 8): 0.001385631559981786,\n",
              " (8, 0): 0.0022341073228466174,\n",
              " (8, 1): 0.001376737956184977,\n",
              " (8, 2): 0.0022259328314261128,\n",
              " (8, 3): 0.003361076021156639,\n",
              " (8, 4): 0.004314086141934087,\n",
              " (8, 5): 0.0033397141928648696,\n",
              " (8, 6): 0.0027554294129977014,\n",
              " (8, 7): 0.001385631559981786}"
            ]
          },
          "metadata": {},
          "execution_count": 5
        }
      ]
    },
    {
      "cell_type": "code",
      "source": [
        "x=cordenadas_x\n",
        "y=cordenadas_y\n",
        "plt.figure(figsize=(12,8))\n",
        "plt.scatter(x,y,color='red')\n",
        "plt.xlabel('coordenadas x')\n",
        "plt.ylabel('coordenadas y')\n",
        "plt.title('Sin titulo')\n",
        "plt.show()"
      ],
      "metadata": {
        "colab": {
          "base_uri": "https://localhost:8080/",
          "height": 513
        },
        "id": "V8k0WxpHzLOn",
        "outputId": "02b77e4f-0cd0-4ac0-ff69-25bfc8fb0ac8"
      },
      "execution_count": 6,
      "outputs": [
        {
          "output_type": "display_data",
          "data": {
            "text/plain": [
              "<Figure size 864x576 with 1 Axes>"
            ],
            "image/png": "[encoded data removed]"
          },
          "metadata": {
            "needs_background": "light"
          }
        }
      ]
    },
    {
      "cell_type": "code",
      "source": [
        ""
      ],
      "metadata": {
        "id": "diwD45j7zOfw"
      },
      "execution_count": null,
      "outputs": []
    }
  ]
}